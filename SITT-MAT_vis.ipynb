{
 "cells": [
  {
   "cell_type": "code",
   "execution_count": null,
   "id": "db41d69b-4b21-4524-88b5-0156404c2383",
   "metadata": {},
   "outputs": [],
   "source": [
    "import pandas as pd\n",
    "import numpy as np\n",
    "\n",
    "import matplotlib.dates as mdates\n",
    "import lowess\n",
    "import plotly.graph_objects as go\n",
    "import plotly.subplots as sp\n",
    "import matplotlib.cm as cm\n",
    "from prettytable import PrettyTable\n",
    "import base64\n",
    "\n",
    "\n",
    "import warnings\n",
    "import plotly.express as px\n",
    "\n",
    "\n",
    "pd.set_option('display.max_columns', None)\n"
   ]
  },
  {
   "cell_type": "code",
   "execution_count": null,
   "id": "132e587b-b004-4c38-aec3-96410abe9fd6",
   "metadata": {},
   "outputs": [],
   "source": [
    "# df_items = pd.read_csv('../ATSH/IFASIS_for_python_atsh.csv')\n",
    "df_items = pd.read_csv('IFASIS_for_python_sit-matt.csv')\n",
    "df_items.columns = ['dimension', 'short_items','items', 'Importance', 'Score', 'context', 'items_hannah']"
   ]
  },
  {
   "cell_type": "code",
   "execution_count": null,
   "id": "1d76b3c0-095e-4663-bab7-9f4d48425c86",
   "metadata": {},
   "outputs": [],
   "source": [
    "# df = pd.read_csv('merged_ifasis-8-21.csv')\n",
    "# df\n",
    "# # df.columns = ['dimension', 'short_items','items', 'Importance', 'Score', 'context', 'items_hannah']"
   ]
  },
  {
   "cell_type": "code",
   "execution_count": null,
   "id": "abeb7229-5844-4ae4-b983-1e106aba5b70",
   "metadata": {},
   "outputs": [],
   "source": [
    "df = pd.read_csv('sitt-matt_ifasis.csv')\n",
    "df\n"
   ]
  },
  {
   "cell_type": "code",
   "execution_count": null,
   "id": "3df17930-df35-40a8-9e90-7bb0c0de0507",
   "metadata": {},
   "outputs": [],
   "source": [
    "df_temp = df.drop(columns = ['Unnamed: 0', 'program_id'])"
   ]
  },
  {
   "cell_type": "code",
   "execution_count": null,
   "id": "7727e194-82e6-41c7-a16a-470140a2c472",
   "metadata": {},
   "outputs": [],
   "source": [
    "# df_temp = df.drop(columns = ['Q147','Unnamed: 1', 'Q144', 'Q142', 'Q143'])"
   ]
  },
  {
   "cell_type": "code",
   "execution_count": null,
   "id": "959ce23f-4e02-470f-95b0-d2b9757adfb3",
   "metadata": {},
   "outputs": [],
   "source": [
    "df_scores = df_temp.iloc[:, ::2]  # Starts from the first column and selects every other column\n",
    "df_importances = df_temp.iloc[:, 1::2]  # Starts from the second column and selects every other column"
   ]
  },
  {
   "cell_type": "code",
   "execution_count": null,
   "id": "02fbbfd8-cc8e-44df-8b18-974a3b5fdb85",
   "metadata": {},
   "outputs": [],
   "source": [
    "df_scores"
   ]
  },
  {
   "cell_type": "code",
   "execution_count": null,
   "id": "120316ff-db0a-407d-9dab-8dd47d899c62",
   "metadata": {},
   "outputs": [],
   "source": [
    "df_importances"
   ]
  },
  {
   "cell_type": "code",
   "execution_count": null,
   "id": "c07a838f-a250-477b-9aae-8c26371eba18",
   "metadata": {},
   "outputs": [],
   "source": [
    "## TEMP, just for may 2024 id04\n",
    "df_importances.loc[1] = df_importances.loc[1].fillna(2)\n",
    "df_importances\n"
   ]
  },
  {
   "cell_type": "code",
   "execution_count": null,
   "id": "e5f4c4a9-4df7-435a-8875-9f815afe7810",
   "metadata": {},
   "outputs": [],
   "source": [
    "dfs = []\n",
    "imp_map = {1: 'not important', 2: 'somewhat important', 3: 'very important'}\n",
    "\n",
    "for idx in range(0, len(df_importances)):\n",
    "    df_site = pd.DataFrame()\n",
    " \n",
    "    df_site['dimension'] = df_items['dimension']\n",
    "    df_site['context'] = df_items['context']\n",
    "    df_site['items_hannah'] = df_items['items_hannah']\n",
    "    \n",
    "    df_site['Importance'] = df_importances.iloc[idx].values.astype(int)\n",
    "    df_site['Score'] = df_scores.iloc[idx].values.astype(int)\n",
    "    \n",
    "    df_site['site_name'] = df['program_id'].iloc[idx]\n",
    "    \n",
    "    # Apply the dictionary using map()\n",
    "    df_site['Importance_str']  = df_site['Importance'].map(imp_map)\n",
    "    # Convert 'Category' column to an ordered categorical data type\n",
    "    df_site['Importance_str'] = pd.Categorical(df_site['Importance_str'], categories=['not important', 'somewhat important', 'very important'], ordered=True)\n",
    "\n",
    "    dfs.append(df_site)"
   ]
  },
  {
   "cell_type": "code",
   "execution_count": null,
   "id": "88cb4331-c340-4799-9dbd-965ad114d090",
   "metadata": {},
   "outputs": [],
   "source": [
    "d_map = {'D1': 'External', 'D2': 'Internal', 'D3': 'Dynamicare Health (DCH)', 'D4': 'Patients'}\n"
   ]
  },
  {
   "cell_type": "code",
   "execution_count": null,
   "id": "7dab554f-f156-401b-90dd-764456f8a0a5",
   "metadata": {},
   "outputs": [],
   "source": [
    "# for df in dfs:\n",
    "#     df_curr = df.copy()\n",
    "#     df_curr['dimension_str'] = df_curr['dimension'].map(d_map)\n",
    "#     df_curr = df_curr[['dimension_str', 'context', 'items_hannah',\"Importance_str\", \"Score\"]]\n",
    "#     df_curr.columns = ['Dimension', 'Context', 'Item',\"Importance\", \"Score\"]\n",
    "#     print(df['site_name'].iloc[1]) # change based on where the site name is\n",
    "#         # Determine an appropriate height based on row count.\n",
    "#     # 40 is for header, and 30 is an estimated height for each row. \n",
    "#     # You can adjust these values based on your preference.\n",
    "#     height = 40 + len(df_curr)*40\n",
    "\n",
    "\n",
    "#     # Create table\n",
    "#     fig = go.Figure(data=[go.Table(\n",
    "#         header=dict(values=list(df_curr.columns),\n",
    "#                     fill_color='paleturquoise',\n",
    "#                     align='left'),\n",
    "#         cells=dict(values=[df_curr[col] for col in df_curr.columns],\n",
    "#                    fill_color='lavender',\n",
    "#                    align='left'), columnwidth=[0.5, 1, 1, 0.5, 0.25] ),\n",
    "        \n",
    "#     ],  layout=dict(height=height, width = 900))\n",
    "\n",
    "#     fig.show()\n",
    "\n",
    "#     fig.write_image(\"images_out/SITT-MATT_tables/\" + df['site_name'].loc[0] + \"_IFASIS_table.png\")\n",
    "    \n"
   ]
  },
  {
   "cell_type": "code",
   "execution_count": null,
   "id": "36a0aee6-0833-43c2-ad1b-be0603c1adf7",
   "metadata": {},
   "outputs": [],
   "source": [
    "# Function to sort each group based on 'Value'\n",
    "def custom_sort(group):\n",
    "    return group.sort_values(by=['Importance', 'Score'], ascending = False)\n"
   ]
  },
  {
   "cell_type": "code",
   "execution_count": null,
   "id": "a35a6182-a530-4cb1-b73d-f3464e53294c",
   "metadata": {},
   "outputs": [],
   "source": [
    "# Function to encode image to Base64\n",
    "def encode_image(image_path):\n",
    "    with open(image_path, \"rb\") as image_file:\n",
    "        encoded_string = base64.b64encode(image_file.read()).decode()\n",
    "    return f\"data:image/png;base64,{encoded_string}\"\n"
   ]
  },
  {
   "cell_type": "code",
   "execution_count": null,
   "id": "673b4654-d130-4d28-aabf-5d34f8b44ee0",
   "metadata": {},
   "outputs": [],
   "source": [
    "def plot_df(df):\n",
    "    # Apply the custom sorting function within each group\n",
    "    sorted_df = df.groupby('dimension').apply(custom_sort).reset_index(drop=True)\n",
    "\n",
    "    # Insert new rows as specified\n",
    "    new_row_positions = [4, 17, 21]\n",
    "    new_row_values = [' ', '', '  ']\n",
    "    for position, value in zip(new_row_positions, new_row_values):\n",
    "        new_row = {'items_hannah': value}\n",
    "        sorted_df = sorted_df.loc[:position].append(new_row, ignore_index=True).append(sorted_df[position+1:], ignore_index=True)\n",
    "    \n",
    "    color_map = {'not important': '#e6e7e8', 'somewhat important': '#adadad', 'very important': '#535454'}   \n",
    "\n",
    "    # Create scatter traces for each \"Importance_str\" value\n",
    "    scatter_traces = []\n",
    "    for importance_value in color_map.keys():\n",
    "        scatter_trace = go.Scatter(\n",
    "            x=sorted_df[sorted_df['Importance_str'] == importance_value]['Score'].iloc[::-1],\n",
    "            y=sorted_df[sorted_df['Importance_str'] == importance_value]['items_hannah'].iloc[::-1],\n",
    "            mode='markers',\n",
    "            name=importance_value,  # Set the name for the legend\n",
    "            marker=dict(color=color_map[importance_value]),\n",
    "            showlegend=False\n",
    "        )\n",
    "        scatter_traces.append(scatter_trace)\n",
    "\n",
    "    # Create the figure using all scatter traces\n",
    "    fig = go.Figure(data=scatter_traces)\n",
    "\n",
    "    fig.update_layout(\n",
    "        title='<b>Factors Affecting the Implementation of MOUD</b>',\n",
    "        title_font=dict(size=25),\n",
    "        title_x=0.5,\n",
    "        margin=dict(l=500, r=10, t=8, b=10, pad=8),\n",
    "\n",
    "        font=dict(family=\"Century Gothic\",size=20,color='black'),\n",
    "        height=1200,\n",
    "        width=1100,\n",
    "        yaxis=dict(categoryorder='array',\n",
    "            categoryarray=sorted_df['items_hannah'].iloc[::-1].values,\n",
    "            autorange=False,\n",
    "            range=[-1, len(sorted_df)]), xaxis=dict(range=[0, 6]),\n",
    "        legend_title_text='',\n",
    "        legend=dict(\n",
    "            x=-0.9,\n",
    "            y=-0.03,\n",
    "            orientation='h',\n",
    "            traceorder=\"normal\",\n",
    "            itemsizing='trace'),\n",
    "\n",
    "        plot_bgcolor=\"White\",\n",
    "        xaxis_showticklabels=False\n",
    "    )\n",
    "\n",
    "    # Add a horizontal white bar (gap) between the graphs and other decorative elements\n",
    "    fig.update_layout(\n",
    "        shapes=[\n",
    "            # Background rectangles for visual segmentation\n",
    "            {'type': 'rect', 'xref': 'paper', 'yref': 'paper', 'x0': 0, 'y0': 0, 'x1': 0.5, 'y1': 1, 'fillcolor': '#fccacc', 'layer': 'below', 'line': {'width': 0}},\n",
    "            {'type': 'rect', 'xref': 'paper', 'yref': 'paper', 'x0': 0.5, 'y0': 0, 'x1': 1, 'y1': 1, 'fillcolor': \"#ced4f5\", 'layer': 'below', 'line': {'width': 0}},\n",
    "            {'type': 'rect', 'xref': 'paper', 'yref': 'y', 'x0': -0.1, 'y0': 6.7, 'x1': 1.1, 'y1': 7.4, 'fillcolor': 'white', 'layer': 'below', 'line': {'width': 0}},\n",
    "            {'type': 'rect', 'xref': 'paper', 'yref': 'y', 'x0': -0.1, 'y0': 10.7, 'x1': 1.1, 'y1': 11.4, 'fillcolor': 'white', 'layer': 'below', 'line': {'width': 0}},\n",
    "            {'type': 'rect', 'xref': 'paper', 'yref': 'y', 'x0': -0.1, 'y0': 23.5, 'x1': 1.1, 'y1': 24.2, 'fillcolor': 'white', 'layer': 'below', 'line': {'width': 0}},\n",
    "\n",
    "            # Decorative lines\n",
    "            {'type': \"line\", 'x0': -1.6, 'x1': 1, 'y0': 24.2, 'y1': 24.2, 'xref': \"paper\", 'line': {'color': \"gray\", 'width': 2}},\n",
    "            {'type': \"line\", 'x0': -1.6, 'x1': 1, 'y0': 11.4, 'y1': 11.4, 'xref': \"paper\", 'line': {'color': \"gray\", 'width': 2}},\n",
    "            {'type': \"line\", 'x0': -1.6, 'x1': 1, 'y0': 7.4, 'y1': 7.4, 'xref': \"paper\", 'line': {'color': \"gray\", 'width': 2}},\n",
    "            {'type': \"line\", 'x0': -1.6, 'x1': 1, 'y0': 1.02, 'y1': 1.02, 'xref': \"paper\", 'yref': \"paper\", 'line': {'color': \"gray\", 'width': 2}}\n",
    "        ],\n",
    "    )\n",
    "\n",
    "    # Add a horizontal white bar (gap) between the graphs and other decorative elements\n",
    "    fig.update_layout(\n",
    "        shapes=[\n",
    "            # Background rectangles for visual segmentation\n",
    "            {'type': 'rect', 'xref': 'paper', 'yref': 'paper', 'x0': 0, 'y0': 0, 'x1': 0.5, 'y1': 1, 'fillcolor': '#fccacc', 'layer': 'below', 'line': {'width': 0}},\n",
    "            {'type': 'rect', 'xref': 'paper', 'yref': 'paper', 'x0': 0.5, 'y0': 0, 'x1': 1, 'y1': 1, 'fillcolor': \"#ced4f5\", 'layer': 'below', 'line': {'width': 0}},\n",
    "            {'type': 'rect', 'xref': 'paper', 'yref': 'y', 'x0': -0.1, 'y0': 6.7, 'x1': 1.1, 'y1': 7.4, 'fillcolor': 'white', 'layer': 'below', 'line': {'width': 0}},\n",
    "            {'type': 'rect', 'xref': 'paper', 'yref': 'y', 'x0': -0.1, 'y0': 10.7, 'x1': 1.1, 'y1': 11.4, 'fillcolor': 'white', 'layer': 'below', 'line': {'width': 0}},\n",
    "            {'type': 'rect', 'xref': 'paper', 'yref': 'y', 'x0': -0.1, 'y0': 23.5, 'x1': 1.1, 'y1': 24.2, 'fillcolor': 'white', 'layer': 'below', 'line': {'width': 0}},\n",
    "\n",
    "            # Decorative lines\n",
    "            {'type': \"line\", 'x0': -1.6, 'x1': 1, 'y0': 24.2, 'y1': 24.2, 'xref': \"paper\", 'line': {'color': \"gray\", 'width': 2}},\n",
    "            {'type': \"line\", 'x0': -1.6, 'x1': 1, 'y0': 11.4, 'y1': 11.4, 'xref': \"paper\", 'line': {'color': \"gray\", 'width': 2}},\n",
    "            {'type': \"line\", 'x0': -1.6, 'x1': 1, 'y0': 7.4, 'y1': 7.4, 'xref': \"paper\", 'line': {'color': \"gray\", 'width': 2}},\n",
    "            {'type': \"line\", 'x0': -1.6, 'x1': 1, 'y0': 1.02, 'y1': 1.02, 'xref': \"paper\", 'yref': \"paper\", 'line': {'color': \"gray\", 'width': 2}}\n",
    "        ],\n",
    "    )\n",
    "\n",
    "\n",
    "\n",
    "\n",
    "    fig.add_annotation(x=-1.6, y=30, text='<b>External</b>', showarrow=False, arrowhead=1,  xref='paper')\n",
    "    fig.add_annotation(x=-1.6, y=23.8, text='<b>Internal</b>', showarrow=False, arrowhead=1, xref='paper')\n",
    "    fig.add_annotation(x=-1.6, y=10.9, text='<b>MAT</b>', showarrow=False, arrowhead=1,xref='paper')\n",
    "    fig.add_annotation(x=-1.6, y=6.9, text='<b>Patients</b>', showarrow=False, arrowhead=1, xref='paper')\n",
    "    \n",
    "    fig.add_annotation(x=0.05, y=1.05, text='<b>Barriers</b>', showarrow=False, arrowhead=1,xref='paper',yref='paper')\n",
    "    fig.add_annotation(x=0.5, y=1.05, text='<b>Neutral</b>', showarrow=False, arrowhead=1,xref='paper',yref='paper')\n",
    "    fig.add_annotation(x=1, y=1.05, text='<b>Facilitators</b>', showarrow=False, arrowhead=1,xref='paper',yref='paper')\n",
    "\n",
    "\n",
    "    fig.update_traces( marker=dict(size=40,line=dict(color='#535454', width=2)))    \n",
    "    legend_image_path = 'legend_onlybaseline.png' \n",
    "    legend_image = dict(source=encode_image(legend_image_path),xref=\"paper\",yref=\"paper\",x=-0.2,y=-0.04,sizex=1.8,sizey=1,xanchor=\"center\",yanchor=\"middle\",)\n",
    "\n",
    "    # Add the image to the layout\n",
    "    fig.add_layout_image(legend_image)\n",
    "\n",
    "\n",
    "    fig.update_layout(\n",
    "        height=2000,\n",
    "        # width = 2667,\n",
    "        width=1800,\n",
    "        title_font=dict(size=40),font=dict(size=38),\n",
    "        margin=dict(l=1000, r=50, t=150, b=150, pad = 15),\n",
    "        )\n",
    "    \n",
    "    fig.update_xaxes(range=[0.5, 5.5])    \n",
    "\n",
    "    # fig.write_image(\"images_out/SITT-MATT_sites/dummy/dummy_IFASIS_graph.png\")\n",
    "\n",
    "    fig.write_image(\"images_out/SITT-MATT_sites/feb_2024/\" + df['site_name'].loc[0] + \"_IFASIS_graph.png\")\n",
    "    # fig.write_image(\"images_out/SITT-MATT_sites/feb_2024/\"+ df['site_name'].loc[0] + \"_IFASIS_graph.svg\")"
   ]
  },
  {
   "cell_type": "code",
   "execution_count": null,
   "id": "d8c958bd-0e64-4c33-8a6f-bca8cb82851a",
   "metadata": {},
   "outputs": [],
   "source": [
    "# plot_df(df_dummy)"
   ]
  },
  {
   "cell_type": "code",
   "execution_count": null,
   "id": "b03cfdf4-d311-4400-b8cb-9d24cb5c05c0",
   "metadata": {},
   "outputs": [],
   "source": [
    "for df in dfs:\n",
    "    if df['site_name'].iloc[0] == 'id04':\n",
    "        plot_df(df)"
   ]
  },
  {
   "cell_type": "code",
   "execution_count": null,
   "id": "6f753922-f817-43d3-a08a-6e1a255d4b81",
   "metadata": {},
   "outputs": [],
   "source": [
    "len(dfs)"
   ]
  },
  {
   "cell_type": "code",
   "execution_count": null,
   "id": "ca6165f3-0e79-45eb-95d4-e67836d027f9",
   "metadata": {},
   "outputs": [],
   "source": [
    "# !cp -r \"images_out/SITT-MATT_sites/feb_2024\" \"/Users/liachin-purcell/Library/CloudStorage/Box-Box/McGovern Lab/MAT for OUD/SITT-MAT/03. EMF/February 2024/IFASIS\""
   ]
  }
 ],
 "metadata": {
  "kernelspec": {
   "display_name": "Python 3 (ipykernel)",
   "language": "python",
   "name": "python3"
  },
  "language_info": {
   "codemirror_mode": {
    "name": "ipython",
    "version": 3
   },
   "file_extension": ".py",
   "mimetype": "text/x-python",
   "name": "python",
   "nbconvert_exporter": "python",
   "pygments_lexer": "ipython3",
   "version": "3.9.9"
  }
 },
 "nbformat": 4,
 "nbformat_minor": 5
}
