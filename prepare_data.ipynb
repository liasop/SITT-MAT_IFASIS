{
 "cells": [
  {
   "cell_type": "code",
   "execution_count": null,
   "id": "16ab4f79-b7a1-440b-80be-88ac77c1506c",
   "metadata": {},
   "outputs": [],
   "source": [
    "import pandas as pd\n",
    "import numpy as np\n",
    "import requests\n",
    "from io import StringIO\n",
    "import yaml\n"
   ]
  },
  {
   "cell_type": "code",
   "execution_count": null,
   "id": "80e05beb-8638-43da-b27a-cb6c189d4ce8",
   "metadata": {},
   "outputs": [],
   "source": [
    "# Function to load API keys from a YAML file\n",
    "def load_api_keys(filepath):\n",
    "    with open(filepath, 'r') as file:\n",
    "        secrets = yaml.safe_load(file)\n",
    "    return secrets\n",
    "\n",
    "# Load the API keys\n",
    "secrets_filepath = 'secrets.yaml'  # Path to your secrets.yaml file\n",
    "secrets = load_api_keys(secrets_filepath)\n",
    "\n",
    "# Access the API keys\n",
    "api_url = secrets['redcap']['api_url']\n",
    "redcap_PC_key = secrets['redcap']['redcap_PC_key']\n",
    "redcap_SC_key = secrets['redcap']['redcap_SC_key']\n"
   ]
  },
  {
   "cell_type": "code",
   "execution_count": null,
   "id": "d49e21f1-944e-41ef-a45b-6dc04568d7d4",
   "metadata": {},
   "outputs": [],
   "source": [
    "data_sc = {\n",
    "    'token': redcap_SC_key,\n",
    "    'content': 'report',\n",
    "    'format': 'csv',   \n",
    "    'report_id': 128450, \n",
    "    'rawOrLabel': 'raw',  \n",
    "    'rawOrLabelHeaders': 'raw', \n",
    "    'exportCheckboxLabel': 'false', \n",
    "    'returnFormat': 'json'\n",
    "}\n",
    "\n",
    "# Data payload for the request, specifying the report ID\n",
    "data_pc = {\n",
    "    'token': redcap_PC_key,\n",
    "    'content': 'report',\n",
    "    'format': 'csv', \n",
    "    'report_id': 128451, \n",
    "    'rawOrLabel': 'raw',  \n",
    "    'rawOrLabelHeaders': 'raw',  \n",
    "    'exportCheckboxLabel': 'false',  \n",
    "    'returnFormat': 'json'\n",
    "}\n",
    "\n",
    "# Make the POST requests\n",
    "response_sc = requests.post(api_url, data=data_sc)\n",
    "response_pc = requests.post(api_url, data=data_pc)\n",
    "\n",
    "# Check if the request was successful\n",
    "if response_sc.status_code == 200 & response_pc.status_code == 200:\n",
    "    # The response content is now CSV data\n",
    "    csv_data = response_sc.text\n",
    "#     # Optionally, save the CSV data to a file\n",
    "#     with open('redcap_report.csv', 'w', encoding='utf-8') as file:\n",
    "#         file.write(csv_data)\n",
    "        \n",
    "    # Convert the CSV string to a DataFrame\n",
    "    df = pd.read_csv(StringIO(csv_data))\n",
    "    df_redcap = df.append(pd.read_csv(StringIO(response_pc.text)))\n",
    "else:\n",
    "    print(f\"Failed to retrieve data: {response.status_code}\")"
   ]
  },
  {
   "cell_type": "code",
   "execution_count": null,
   "id": "6aa900e0-d20b-4bb4-87f4-1be1b3978219",
   "metadata": {},
   "outputs": [],
   "source": [
    "df_redcap[df_redcap['ifasis_d1_1_1'] == df_redcap['ifasis_d1_1_1']]"
   ]
  },
  {
   "cell_type": "code",
   "execution_count": null,
   "id": "49ab306c-8eed-4010-a948-5311e8334d49",
   "metadata": {},
   "outputs": [],
   "source": [
    "# df_redcap = pd.read_csv(\"old_data/StagewiseImplementat-IFASIS_DATA_2023-11-10_1342.csv\")"
   ]
  },
  {
   "cell_type": "code",
   "execution_count": null,
   "id": "a0f80cf2-be36-4f07-a0d7-7fc497b5f779",
   "metadata": {},
   "outputs": [],
   "source": [
    "# df_redcap_old = pd.read_csv('StagewiseImplementat-IFASIS_DATA_2023-11-10_1342.csv')\n",
    "# df_redcap_pc_old = pd.read_csv('StagewiseImplementat-IFASIS_DATA_2023-11-10_1343.csv')\n",
    "\n",
    "# df_redcap_old = df_redcap_old.append(df_redcap_pc)"
   ]
  },
  {
   "cell_type": "code",
   "execution_count": null,
   "id": "1ec98eb9-e2d8-440a-8bce-4ffae8970e1f",
   "metadata": {},
   "outputs": [],
   "source": [
    "df_redcap = df_redcap[df_redcap['ifasis_d1_1_1'] == df_redcap['ifasis_d1_1_1']] # filter out nans\n",
    "# df_redcap = df_redcap[df_redcap['ifasis_d1_1_1_imp'] == df_redcap['ifasis_d1_1_1_imp']] # filter out nans\n",
    "\n",
    "df_redcap\n"
   ]
  },
  {
   "cell_type": "code",
   "execution_count": null,
   "id": "49a05ae4-b80e-4a61-b28a-b5ba6a1ffb24",
   "metadata": {},
   "outputs": [],
   "source": [
    "# # keep only the new ones\n",
    "# ids_keep = ['id15', 'id35', 'id38', 'id39', 'id40', 'id44']\n",
    "# df_redcap = df_redcap[df_redcap['program_id'].isin(ids_keep)]\n",
    "# df_redcap"
   ]
  },
  {
   "cell_type": "code",
   "execution_count": null,
   "id": "ae1d16bf-e7f5-4685-8f81-de602098d8c7",
   "metadata": {},
   "outputs": [],
   "source": [
    "# df_redcap_old = df_redcap_old[df_redcap_old['ifasis_d1_1_1'] == df_redcap_old['ifasis_d1_1_1']] # filter out nans\n",
    "# df_redcap_old\n"
   ]
  },
  {
   "cell_type": "code",
   "execution_count": null,
   "id": "5c95212a-7f9f-4c6f-ba3a-d2af0e69f910",
   "metadata": {},
   "outputs": [],
   "source": [
    "df_redcap.columns"
   ]
  },
  {
   "cell_type": "code",
   "execution_count": null,
   "id": "bf52040b-b841-4d93-91c1-2f88576778f0",
   "metadata": {},
   "outputs": [],
   "source": [
    "df_redcap.columns\n",
    "\n",
    "cols_to_remove = []\n",
    "for col in df_redcap.columns:\n",
    "    if 'mean' in col:\n",
    "        cols_to_remove.append(col)\n",
    "    if 'role' in col:\n",
    "        cols_to_remove.append(col)\n",
    "    if 'count' in col:\n",
    "        cols_to_remove.append(col)\n",
    "    if 'report' in col:\n",
    "        cols_to_remove.append(col)\n",
    "    if 'upload' in col:\n",
    "        cols_to_remove.append(col)\n",
    "    if 'completion' in col:\n",
    "        cols_to_remove.append(col)    "
   ]
  },
  {
   "cell_type": "code",
   "execution_count": null,
   "id": "451ae0ac-c199-4f5d-9ca2-bd28544f3b6f",
   "metadata": {},
   "outputs": [],
   "source": [
    "df_redcap = df_redcap.drop(columns = cols_to_remove)\n",
    "df_redcap.columns"
   ]
  },
  {
   "cell_type": "code",
   "execution_count": null,
   "id": "8653f476-0e20-432d-85a4-1a8fa1ea0953",
   "metadata": {},
   "outputs": [],
   "source": [
    "df_redcap = df_redcap.drop(columns = ['redcap_event_name', 'redcap_repeat_instance', 'redcap_repeat_instrument'])\n",
    "df_redcap.to_csv('sitt-matt_ifasis.csv')"
   ]
  },
  {
   "cell_type": "code",
   "execution_count": null,
   "id": "44fae62d-de70-46d9-ae3b-8f4826b5d7c6",
   "metadata": {},
   "outputs": [],
   "source": []
  },
  {
   "cell_type": "code",
   "execution_count": null,
   "id": "91f3624b-3a2e-40a1-8efb-2239707e3ef4",
   "metadata": {},
   "outputs": [],
   "source": []
  }
 ],
 "metadata": {
  "kernelspec": {
   "display_name": "Python 3 (ipykernel)",
   "language": "python",
   "name": "python3"
  },
  "language_info": {
   "codemirror_mode": {
    "name": "ipython",
    "version": 3
   },
   "file_extension": ".py",
   "mimetype": "text/x-python",
   "name": "python",
   "nbconvert_exporter": "python",
   "pygments_lexer": "ipython3",
   "version": "3.9.9"
  }
 },
 "nbformat": 4,
 "nbformat_minor": 5
}
